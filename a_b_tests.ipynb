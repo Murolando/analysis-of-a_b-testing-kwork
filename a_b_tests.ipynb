{
  "nbformat": 4,
  "nbformat_minor": 0,
  "metadata": {
    "colab": {
      "provenance": [],
      "authorship_tag": "ABX9TyNTjGSMfuFg0X0iT7jMAx3H",
      "include_colab_link": true
    },
    "kernelspec": {
      "name": "python3",
      "display_name": "Python 3"
    },
    "language_info": {
      "name": "python"
    }
  },
  "cells": [
    {
      "cell_type": "markdown",
      "metadata": {
        "id": "view-in-github",
        "colab_type": "text"
      },
      "source": [
        "<a href=\"https://colab.research.google.com/github/Murolando/analysis-of-a_b-testing-kwork/blob/main/a_b_tests.ipynb\" target=\"_parent\"><img src=\"https://colab.research.google.com/assets/colab-badge.svg\" alt=\"Open In Colab\"/></a>"
      ]
    },
    {
      "cell_type": "code",
      "execution_count": null,
      "metadata": {
        "id": "Usqc3zmPXHbK"
      },
      "outputs": [],
      "source": [
        "import pandas as pd\n",
        "import numpy as np\n",
        "import seaborn as sns\n",
        "import matplotlib.pyplot as plt\n",
        "import scipy.stats as stats"
      ]
    },
    {
      "cell_type": "code",
      "source": [
        "from google.colab import drive\n",
        "drive.mount('/content/drive')"
      ],
      "metadata": {
        "colab": {
          "base_uri": "https://localhost:8080/"
        },
        "id": "B5eBUSkZYUts",
        "outputId": "4aad8880-06ba-4eae-c280-780933f5a7a3"
      },
      "execution_count": null,
      "outputs": [
        {
          "output_type": "stream",
          "name": "stdout",
          "text": [
            "Drive already mounted at /content/drive; to attempt to forcibly remount, call drive.mount(\"/content/drive\", force_remount=True).\n"
          ]
        }
      ]
    },
    {
      "cell_type": "markdown",
      "source": [
        "Задача: На сайте запущен А/В тест с целью увеличить доход. В приложенном excel файле ты найдешь сырые данные по результатам эксперимента (user_id), тип выборки (variant_name) и доход, принесенный пользователем (revenue).\n",
        "\n",
        "Проанализируй результаты эксперимента и напиши свои рекомендации менеджеру.\n",
        "\n",
        "Результат нужен в формате .ipynb файл, код на питоне с графиками и пр."
      ],
      "metadata": {
        "id": "e99GLEZlImG6"
      }
    },
    {
      "cell_type": "markdown",
      "source": [
        "# Загрузка данных"
      ],
      "metadata": {
        "id": "83ZQzvgGb_9T"
      }
    },
    {
      "cell_type": "code",
      "source": [
        "df = pd.read_excel('/content/drive/MyDrive/ML Pr/Rabota 9 a b tests/AB_Test_Results.xlsx')"
      ],
      "metadata": {
        "colab": {
          "base_uri": "https://localhost:8080/"
        },
        "id": "_PSf-Mq2YMwO",
        "outputId": "0450b3f2-c9d3-48c0-e022-4797a07059a0"
      },
      "execution_count": null,
      "outputs": [
        {
          "output_type": "stream",
          "name": "stderr",
          "text": [
            "/usr/local/lib/python3.9/dist-packages/openpyxl/worksheet/_reader.py:312: UserWarning: Unknown extension is not supported and will be removed\n",
            "  warn(msg)\n"
          ]
        }
      ]
    },
    {
      "cell_type": "markdown",
      "source": [
        "# Анализ данных"
      ],
      "metadata": {
        "id": "iPSDGKX8cs55"
      }
    },
    {
      "cell_type": "code",
      "source": [
        "df.info()"
      ],
      "metadata": {
        "colab": {
          "base_uri": "https://localhost:8080/"
        },
        "id": "n4ul4TWqYNF5",
        "outputId": "a962d48d-7d25-4a28-b0b9-800cc3d3940d"
      },
      "execution_count": null,
      "outputs": [
        {
          "output_type": "stream",
          "name": "stdout",
          "text": [
            "<class 'pandas.core.frame.DataFrame'>\n",
            "RangeIndex: 10000 entries, 0 to 9999\n",
            "Data columns (total 3 columns):\n",
            " #   Column        Non-Null Count  Dtype  \n",
            "---  ------        --------------  -----  \n",
            " 0   USER_ID       10000 non-null  int64  \n",
            " 1   VARIANT_NAME  10000 non-null  object \n",
            " 2   REVENUE       10000 non-null  float64\n",
            "dtypes: float64(1), int64(1), object(1)\n",
            "memory usage: 234.5+ KB\n"
          ]
        }
      ]
    },
    {
      "cell_type": "code",
      "source": [
        "len(df['USER_ID'].unique())"
      ],
      "metadata": {
        "colab": {
          "base_uri": "https://localhost:8080/"
        },
        "id": "6OBr3ET_tyWA",
        "outputId": "80247676-064d-478f-ba30-65bd2fb1486c"
      },
      "execution_count": null,
      "outputs": [
        {
          "output_type": "execute_result",
          "data": {
            "text/plain": [
              "6324"
            ]
          },
          "metadata": {},
          "execution_count": 155
        }
      ]
    },
    {
      "cell_type": "code",
      "source": [
        "df['VARIANT_NAME'].value_counts()"
      ],
      "metadata": {
        "colab": {
          "base_uri": "https://localhost:8080/"
        },
        "id": "OYTPoQFVY4oX",
        "outputId": "55df6da1-5c39-4924-a997-917c5efd46c2"
      },
      "execution_count": null,
      "outputs": [
        {
          "output_type": "execute_result",
          "data": {
            "text/plain": [
              "variant    5016\n",
              "control    4984\n",
              "Name: VARIANT_NAME, dtype: int64"
            ]
          },
          "metadata": {},
          "execution_count": 156
        }
      ]
    },
    {
      "cell_type": "markdown",
      "source": [
        "Кол-во данных равно относительно классов, это значительно упрощает анализ"
      ],
      "metadata": {
        "id": "reoHHKw9dqtc"
      }
    },
    {
      "cell_type": "code",
      "source": [
        "fig, ax = plt.subplots(figsize=(5,5))\n",
        "sns.boxplot(df.loc[df['REVENUE']>0],x = \"VARIANT_NAME\", y ='REVENUE')"
      ],
      "metadata": {
        "colab": {
          "base_uri": "https://localhost:8080/",
          "height": 352
        },
        "id": "qfsgWnWQT79m",
        "outputId": "fab1aa17-670b-4243-cac6-bb07828fcf88"
      },
      "execution_count": null,
      "outputs": [
        {
          "output_type": "execute_result",
          "data": {
            "text/plain": [
              "<Axes: xlabel='VARIANT_NAME', ylabel='REVENUE'>"
            ]
          },
          "metadata": {},
          "execution_count": 157
        },
        {
          "output_type": "display_data",
          "data": {
            "text/plain": [
              "<Figure size 360x360 with 1 Axes>"
            ],
            "image/png": "[encoded data removed]"
          },
          "metadata": {
            "needs_background": "light"
          }
        }
      ]
    },
    {
      "cell_type": "code",
      "source": [
        "df.loc[(df['REVENUE']>0)].describe()"
      ],
      "metadata": {
        "colab": {
          "base_uri": "https://localhost:8080/",
          "height": 300
        },
        "id": "tCGwnf_pLkNu",
        "outputId": "b6519db8-7c17-46bf-f618-73d1c241dd6d"
      },
      "execution_count": null,
      "outputs": [
        {
          "output_type": "execute_result",
          "data": {
            "text/plain": [
              "           USER_ID     REVENUE\n",
              "count   152.000000  152.000000\n",
              "mean   4862.217105    6.542566\n",
              "std    2987.566745   17.706752\n",
              "min      56.000000    0.020000\n",
              "25%    2177.250000    1.250000\n",
              "50%    4980.500000    2.420000\n",
              "75%    7393.250000    4.607500\n",
              "max    9996.000000  196.010000"
            ],
            "text/html": [
              "\n",
              "  <div id=\"df-83ae4e9d-6493-4028-8532-9fb97bb90dfd\">\n",
              "    <div class=\"colab-df-container\">\n",
              "      <div>\n",
              "<style scoped>\n",
              "    .dataframe tbody tr th:only-of-type {\n",
              "        vertical-align: middle;\n",
              "    }\n",
              "\n",
              "    .dataframe tbody tr th {\n",
              "        vertical-align: top;\n",
              "    }\n",
              "\n",
              "    .dataframe thead th {\n",
              "        text-align: right;\n",
              "    }\n",
              "</style>\n",
              "<table border=\"1\" class=\"dataframe\">\n",
              "  <thead>\n",
              "    <tr style=\"text-align: right;\">\n",
              "      <th></th>\n",
              "      <th>USER_ID</th>\n",
              "      <th>REVENUE</th>\n",
              "    </tr>\n",
              "  </thead>\n",
              "  <tbody>\n",
              "    <tr>\n",
              "      <th>count</th>\n",
              "      <td>152.000000</td>\n",
              "      <td>152.000000</td>\n",
              "    </tr>\n",
              "    <tr>\n",
              "      <th>mean</th>\n",
              "      <td>4862.217105</td>\n",
              "      <td>6.542566</td>\n",
              "    </tr>\n",
              "    <tr>\n",
              "      <th>std</th>\n",
              "      <td>2987.566745</td>\n",
              "      <td>17.706752</td>\n",
              "    </tr>\n",
              "    <tr>\n",
              "      <th>min</th>\n",
              "      <td>56.000000</td>\n",
              "      <td>0.020000</td>\n",
              "    </tr>\n",
              "    <tr>\n",
              "      <th>25%</th>\n",
              "      <td>2177.250000</td>\n",
              "      <td>1.250000</td>\n",
              "    </tr>\n",
              "    <tr>\n",
              "      <th>50%</th>\n",
              "      <td>4980.500000</td>\n",
              "      <td>2.420000</td>\n",
              "    </tr>\n",
              "    <tr>\n",
              "      <th>75%</th>\n",
              "      <td>7393.250000</td>\n",
              "      <td>4.607500</td>\n",
              "    </tr>\n",
              "    <tr>\n",
              "      <th>max</th>\n",
              "      <td>9996.000000</td>\n",
              "      <td>196.010000</td>\n",
              "    </tr>\n",
              "  </tbody>\n",
              "</table>\n",
              "</div>\n",
              "      <button class=\"colab-df-convert\" onclick=\"convertToInteractive('df-83ae4e9d-6493-4028-8532-9fb97bb90dfd')\"\n",
              "              title=\"Convert this dataframe to an interactive table.\"\n",
              "              style=\"display:none;\">\n",
              "        \n",
              "  <svg xmlns=\"http://www.w3.org/2000/svg\" height=\"24px\"viewBox=\"0 0 24 24\"\n",
              "       width=\"24px\">\n",
              "    <path d=\"M0 0h24v24H0V0z\" fill=\"none\"/>\n",
              "    <path d=\"M18.56 5.44l.94 2.06.94-2.06 2.06-.94-2.06-.94-.94-2.06-.94 2.06-2.06.94zm-11 1L8.5 8.5l.94-2.06 2.06-.94-2.06-.94L8.5 2.5l-.94 2.06-2.06.94zm10 10l.94 2.06.94-2.06 2.06-.94-2.06-.94-.94-2.06-.94 2.06-2.06.94z\"/><path d=\"M17.41 7.96l-1.37-1.37c-.4-.4-.92-.59-1.43-.59-.52 0-1.04.2-1.43.59L10.3 9.45l-7.72 7.72c-.78.78-.78 2.05 0 2.83L4 21.41c.39.39.9.59 1.41.59.51 0 1.02-.2 1.41-.59l7.78-7.78 2.81-2.81c.8-.78.8-2.07 0-2.86zM5.41 20L4 18.59l7.72-7.72 1.47 1.35L5.41 20z\"/>\n",
              "  </svg>\n",
              "      </button>\n",
              "      \n",
              "  <style>\n",
              "    .colab-df-container {\n",
              "      display:flex;\n",
              "      flex-wrap:wrap;\n",
              "      gap: 12px;\n",
              "    }\n",
              "\n",
              "    .colab-df-convert {\n",
              "      background-color: #E8F0FE;\n",
              "      border: none;\n",
              "      border-radius: 50%;\n",
              "      cursor: pointer;\n",
              "      display: none;\n",
              "      fill: #1967D2;\n",
              "      height: 32px;\n",
              "      padding: 0 0 0 0;\n",
              "      width: 32px;\n",
              "    }\n",
              "\n",
              "    .colab-df-convert:hover {\n",
              "      background-color: #E2EBFA;\n",
              "      box-shadow: 0px 1px 2px rgba(60, 64, 67, 0.3), 0px 1px 3px 1px rgba(60, 64, 67, 0.15);\n",
              "      fill: #174EA6;\n",
              "    }\n",
              "\n",
              "    [theme=dark] .colab-df-convert {\n",
              "      background-color: #3B4455;\n",
              "      fill: #D2E3FC;\n",
              "    }\n",
              "\n",
              "    [theme=dark] .colab-df-convert:hover {\n",
              "      background-color: #434B5C;\n",
              "      box-shadow: 0px 1px 3px 1px rgba(0, 0, 0, 0.15);\n",
              "      filter: drop-shadow(0px 1px 2px rgba(0, 0, 0, 0.3));\n",
              "      fill: #FFFFFF;\n",
              "    }\n",
              "  </style>\n",
              "\n",
              "      <script>\n",
              "        const buttonEl =\n",
              "          document.querySelector('#df-83ae4e9d-6493-4028-8532-9fb97bb90dfd button.colab-df-convert');\n",
              "        buttonEl.style.display =\n",
              "          google.colab.kernel.accessAllowed ? 'block' : 'none';\n",
              "\n",
              "        async function convertToInteractive(key) {\n",
              "          const element = document.querySelector('#df-83ae4e9d-6493-4028-8532-9fb97bb90dfd');\n",
              "          const dataTable =\n",
              "            await google.colab.kernel.invokeFunction('convertToInteractive',\n",
              "                                                     [key], {});\n",
              "          if (!dataTable) return;\n",
              "\n",
              "          const docLinkHtml = 'Like what you see? Visit the ' +\n",
              "            '<a target=\"_blank\" href=https://colab.research.google.com/notebooks/data_table.ipynb>data table notebook</a>'\n",
              "            + ' to learn more about interactive tables.';\n",
              "          element.innerHTML = '';\n",
              "          dataTable['output_type'] = 'display_data';\n",
              "          await google.colab.output.renderOutput(dataTable, element);\n",
              "          const docLink = document.createElement('div');\n",
              "          docLink.innerHTML = docLinkHtml;\n",
              "          element.appendChild(docLink);\n",
              "        }\n",
              "      </script>\n",
              "    </div>\n",
              "  </div>\n",
              "  "
            ]
          },
          "metadata": {},
          "execution_count": 158
        }
      ]
    },
    {
      "cell_type": "code",
      "source": [
        "df.loc[(df['REVENUE']>0) & (df[\"VARIANT_NAME\"] == 'variant')].describe()"
      ],
      "metadata": {
        "colab": {
          "base_uri": "https://localhost:8080/",
          "height": 300
        },
        "id": "WGunmrpeT73z",
        "outputId": "b087f58b-c8f2-4871-83da-26b428942092"
      },
      "execution_count": null,
      "outputs": [
        {
          "output_type": "execute_result",
          "data": {
            "text/plain": [
              "           USER_ID    REVENUE\n",
              "count    72.000000  72.000000\n",
              "mean   5306.958333   4.881528\n",
              "std    3116.544256   9.913973\n",
              "min      56.000000   0.020000\n",
              "25%    2707.500000   1.245000\n",
              "50%    5721.000000   2.170000\n",
              "75%    7963.750000   3.972500\n",
              "max    9996.000000  58.630000"
            ],
            "text/html": [
              "\n",
              "  <div id=\"df-52cc36f4-b876-4fab-bd0a-3a088e0c7a2c\">\n",
              "    <div class=\"colab-df-container\">\n",
              "      <div>\n",
              "<style scoped>\n",
              "    .dataframe tbody tr th:only-of-type {\n",
              "        vertical-align: middle;\n",
              "    }\n",
              "\n",
              "    .dataframe tbody tr th {\n",
              "        vertical-align: top;\n",
              "    }\n",
              "\n",
              "    .dataframe thead th {\n",
              "        text-align: right;\n",
              "    }\n",
              "</style>\n",
              "<table border=\"1\" class=\"dataframe\">\n",
              "  <thead>\n",
              "    <tr style=\"text-align: right;\">\n",
              "      <th></th>\n",
              "      <th>USER_ID</th>\n",
              "      <th>REVENUE</th>\n",
              "    </tr>\n",
              "  </thead>\n",
              "  <tbody>\n",
              "    <tr>\n",
              "      <th>count</th>\n",
              "      <td>72.000000</td>\n",
              "      <td>72.000000</td>\n",
              "    </tr>\n",
              "    <tr>\n",
              "      <th>mean</th>\n",
              "      <td>5306.958333</td>\n",
              "      <td>4.881528</td>\n",
              "    </tr>\n",
              "    <tr>\n",
              "      <th>std</th>\n",
              "      <td>3116.544256</td>\n",
              "      <td>9.913973</td>\n",
              "    </tr>\n",
              "    <tr>\n",
              "      <th>min</th>\n",
              "      <td>56.000000</td>\n",
              "      <td>0.020000</td>\n",
              "    </tr>\n",
              "    <tr>\n",
              "      <th>25%</th>\n",
              "      <td>2707.500000</td>\n",
              "      <td>1.245000</td>\n",
              "    </tr>\n",
              "    <tr>\n",
              "      <th>50%</th>\n",
              "      <td>5721.000000</td>\n",
              "      <td>2.170000</td>\n",
              "    </tr>\n",
              "    <tr>\n",
              "      <th>75%</th>\n",
              "      <td>7963.750000</td>\n",
              "      <td>3.972500</td>\n",
              "    </tr>\n",
              "    <tr>\n",
              "      <th>max</th>\n",
              "      <td>9996.000000</td>\n",
              "      <td>58.630000</td>\n",
              "    </tr>\n",
              "  </tbody>\n",
              "</table>\n",
              "</div>\n",
              "      <button class=\"colab-df-convert\" onclick=\"convertToInteractive('df-52cc36f4-b876-4fab-bd0a-3a088e0c7a2c')\"\n",
              "              title=\"Convert this dataframe to an interactive table.\"\n",
              "              style=\"display:none;\">\n",
              "        \n",
              "  <svg xmlns=\"http://www.w3.org/2000/svg\" height=\"24px\"viewBox=\"0 0 24 24\"\n",
              "       width=\"24px\">\n",
              "    <path d=\"M0 0h24v24H0V0z\" fill=\"none\"/>\n",
              "    <path d=\"M18.56 5.44l.94 2.06.94-2.06 2.06-.94-2.06-.94-.94-2.06-.94 2.06-2.06.94zm-11 1L8.5 8.5l.94-2.06 2.06-.94-2.06-.94L8.5 2.5l-.94 2.06-2.06.94zm10 10l.94 2.06.94-2.06 2.06-.94-2.06-.94-.94-2.06-.94 2.06-2.06.94z\"/><path d=\"M17.41 7.96l-1.37-1.37c-.4-.4-.92-.59-1.43-.59-.52 0-1.04.2-1.43.59L10.3 9.45l-7.72 7.72c-.78.78-.78 2.05 0 2.83L4 21.41c.39.39.9.59 1.41.59.51 0 1.02-.2 1.41-.59l7.78-7.78 2.81-2.81c.8-.78.8-2.07 0-2.86zM5.41 20L4 18.59l7.72-7.72 1.47 1.35L5.41 20z\"/>\n",
              "  </svg>\n",
              "      </button>\n",
              "      \n",
              "  <style>\n",
              "    .colab-df-container {\n",
              "      display:flex;\n",
              "      flex-wrap:wrap;\n",
              "      gap: 12px;\n",
              "    }\n",
              "\n",
              "    .colab-df-convert {\n",
              "      background-color: #E8F0FE;\n",
              "      border: none;\n",
              "      border-radius: 50%;\n",
              "      cursor: pointer;\n",
              "      display: none;\n",
              "      fill: #1967D2;\n",
              "      height: 32px;\n",
              "      padding: 0 0 0 0;\n",
              "      width: 32px;\n",
              "    }\n",
              "\n",
              "    .colab-df-convert:hover {\n",
              "      background-color: #E2EBFA;\n",
              "      box-shadow: 0px 1px 2px rgba(60, 64, 67, 0.3), 0px 1px 3px 1px rgba(60, 64, 67, 0.15);\n",
              "      fill: #174EA6;\n",
              "    }\n",
              "\n",
              "    [theme=dark] .colab-df-convert {\n",
              "      background-color: #3B4455;\n",
              "      fill: #D2E3FC;\n",
              "    }\n",
              "\n",
              "    [theme=dark] .colab-df-convert:hover {\n",
              "      background-color: #434B5C;\n",
              "      box-shadow: 0px 1px 3px 1px rgba(0, 0, 0, 0.15);\n",
              "      filter: drop-shadow(0px 1px 2px rgba(0, 0, 0, 0.3));\n",
              "      fill: #FFFFFF;\n",
              "    }\n",
              "  </style>\n",
              "\n",
              "      <script>\n",
              "        const buttonEl =\n",
              "          document.querySelector('#df-52cc36f4-b876-4fab-bd0a-3a088e0c7a2c button.colab-df-convert');\n",
              "        buttonEl.style.display =\n",
              "          google.colab.kernel.accessAllowed ? 'block' : 'none';\n",
              "\n",
              "        async function convertToInteractive(key) {\n",
              "          const element = document.querySelector('#df-52cc36f4-b876-4fab-bd0a-3a088e0c7a2c');\n",
              "          const dataTable =\n",
              "            await google.colab.kernel.invokeFunction('convertToInteractive',\n",
              "                                                     [key], {});\n",
              "          if (!dataTable) return;\n",
              "\n",
              "          const docLinkHtml = 'Like what you see? Visit the ' +\n",
              "            '<a target=\"_blank\" href=https://colab.research.google.com/notebooks/data_table.ipynb>data table notebook</a>'\n",
              "            + ' to learn more about interactive tables.';\n",
              "          element.innerHTML = '';\n",
              "          dataTable['output_type'] = 'display_data';\n",
              "          await google.colab.output.renderOutput(dataTable, element);\n",
              "          const docLink = document.createElement('div');\n",
              "          docLink.innerHTML = docLinkHtml;\n",
              "          element.appendChild(docLink);\n",
              "        }\n",
              "      </script>\n",
              "    </div>\n",
              "  </div>\n",
              "  "
            ]
          },
          "metadata": {},
          "execution_count": 159
        }
      ]
    },
    {
      "cell_type": "code",
      "source": [
        "df.loc[(df['REVENUE']>0) & (df[\"VARIANT_NAME\"] != 'variant')].describe()"
      ],
      "metadata": {
        "colab": {
          "base_uri": "https://localhost:8080/",
          "height": 300
        },
        "id": "1vdsqKrDVB25",
        "outputId": "0eae7577-fa34-47db-b716-d851817ba2fb"
      },
      "execution_count": null,
      "outputs": [
        {
          "output_type": "execute_result",
          "data": {
            "text/plain": [
              "           USER_ID     REVENUE\n",
              "count    80.000000   80.000000\n",
              "mean   4461.950000    8.037500\n",
              "std    2826.386242   22.498124\n",
              "min     124.000000    0.020000\n",
              "25%    2037.500000    1.515000\n",
              "50%    4327.000000    2.960000\n",
              "75%    6636.750000    6.657500\n",
              "max    9766.000000  196.010000"
            ],
            "text/html": [
              "\n",
              "  <div id=\"df-4ff27bf6-fc48-4b2e-b532-db7f546435a7\">\n",
              "    <div class=\"colab-df-container\">\n",
              "      <div>\n",
              "<style scoped>\n",
              "    .dataframe tbody tr th:only-of-type {\n",
              "        vertical-align: middle;\n",
              "    }\n",
              "\n",
              "    .dataframe tbody tr th {\n",
              "        vertical-align: top;\n",
              "    }\n",
              "\n",
              "    .dataframe thead th {\n",
              "        text-align: right;\n",
              "    }\n",
              "</style>\n",
              "<table border=\"1\" class=\"dataframe\">\n",
              "  <thead>\n",
              "    <tr style=\"text-align: right;\">\n",
              "      <th></th>\n",
              "      <th>USER_ID</th>\n",
              "      <th>REVENUE</th>\n",
              "    </tr>\n",
              "  </thead>\n",
              "  <tbody>\n",
              "    <tr>\n",
              "      <th>count</th>\n",
              "      <td>80.000000</td>\n",
              "      <td>80.000000</td>\n",
              "    </tr>\n",
              "    <tr>\n",
              "      <th>mean</th>\n",
              "      <td>4461.950000</td>\n",
              "      <td>8.037500</td>\n",
              "    </tr>\n",
              "    <tr>\n",
              "      <th>std</th>\n",
              "      <td>2826.386242</td>\n",
              "      <td>22.498124</td>\n",
              "    </tr>\n",
              "    <tr>\n",
              "      <th>min</th>\n",
              "      <td>124.000000</td>\n",
              "      <td>0.020000</td>\n",
              "    </tr>\n",
              "    <tr>\n",
              "      <th>25%</th>\n",
              "      <td>2037.500000</td>\n",
              "      <td>1.515000</td>\n",
              "    </tr>\n",
              "    <tr>\n",
              "      <th>50%</th>\n",
              "      <td>4327.000000</td>\n",
              "      <td>2.960000</td>\n",
              "    </tr>\n",
              "    <tr>\n",
              "      <th>75%</th>\n",
              "      <td>6636.750000</td>\n",
              "      <td>6.657500</td>\n",
              "    </tr>\n",
              "    <tr>\n",
              "      <th>max</th>\n",
              "      <td>9766.000000</td>\n",
              "      <td>196.010000</td>\n",
              "    </tr>\n",
              "  </tbody>\n",
              "</table>\n",
              "</div>\n",
              "      <button class=\"colab-df-convert\" onclick=\"convertToInteractive('df-4ff27bf6-fc48-4b2e-b532-db7f546435a7')\"\n",
              "              title=\"Convert this dataframe to an interactive table.\"\n",
              "              style=\"display:none;\">\n",
              "        \n",
              "  <svg xmlns=\"http://www.w3.org/2000/svg\" height=\"24px\"viewBox=\"0 0 24 24\"\n",
              "       width=\"24px\">\n",
              "    <path d=\"M0 0h24v24H0V0z\" fill=\"none\"/>\n",
              "    <path d=\"M18.56 5.44l.94 2.06.94-2.06 2.06-.94-2.06-.94-.94-2.06-.94 2.06-2.06.94zm-11 1L8.5 8.5l.94-2.06 2.06-.94-2.06-.94L8.5 2.5l-.94 2.06-2.06.94zm10 10l.94 2.06.94-2.06 2.06-.94-2.06-.94-.94-2.06-.94 2.06-2.06.94z\"/><path d=\"M17.41 7.96l-1.37-1.37c-.4-.4-.92-.59-1.43-.59-.52 0-1.04.2-1.43.59L10.3 9.45l-7.72 7.72c-.78.78-.78 2.05 0 2.83L4 21.41c.39.39.9.59 1.41.59.51 0 1.02-.2 1.41-.59l7.78-7.78 2.81-2.81c.8-.78.8-2.07 0-2.86zM5.41 20L4 18.59l7.72-7.72 1.47 1.35L5.41 20z\"/>\n",
              "  </svg>\n",
              "      </button>\n",
              "      \n",
              "  <style>\n",
              "    .colab-df-container {\n",
              "      display:flex;\n",
              "      flex-wrap:wrap;\n",
              "      gap: 12px;\n",
              "    }\n",
              "\n",
              "    .colab-df-convert {\n",
              "      background-color: #E8F0FE;\n",
              "      border: none;\n",
              "      border-radius: 50%;\n",
              "      cursor: pointer;\n",
              "      display: none;\n",
              "      fill: #1967D2;\n",
              "      height: 32px;\n",
              "      padding: 0 0 0 0;\n",
              "      width: 32px;\n",
              "    }\n",
              "\n",
              "    .colab-df-convert:hover {\n",
              "      background-color: #E2EBFA;\n",
              "      box-shadow: 0px 1px 2px rgba(60, 64, 67, 0.3), 0px 1px 3px 1px rgba(60, 64, 67, 0.15);\n",
              "      fill: #174EA6;\n",
              "    }\n",
              "\n",
              "    [theme=dark] .colab-df-convert {\n",
              "      background-color: #3B4455;\n",
              "      fill: #D2E3FC;\n",
              "    }\n",
              "\n",
              "    [theme=dark] .colab-df-convert:hover {\n",
              "      background-color: #434B5C;\n",
              "      box-shadow: 0px 1px 3px 1px rgba(0, 0, 0, 0.15);\n",
              "      filter: drop-shadow(0px 1px 2px rgba(0, 0, 0, 0.3));\n",
              "      fill: #FFFFFF;\n",
              "    }\n",
              "  </style>\n",
              "\n",
              "      <script>\n",
              "        const buttonEl =\n",
              "          document.querySelector('#df-4ff27bf6-fc48-4b2e-b532-db7f546435a7 button.colab-df-convert');\n",
              "        buttonEl.style.display =\n",
              "          google.colab.kernel.accessAllowed ? 'block' : 'none';\n",
              "\n",
              "        async function convertToInteractive(key) {\n",
              "          const element = document.querySelector('#df-4ff27bf6-fc48-4b2e-b532-db7f546435a7');\n",
              "          const dataTable =\n",
              "            await google.colab.kernel.invokeFunction('convertToInteractive',\n",
              "                                                     [key], {});\n",
              "          if (!dataTable) return;\n",
              "\n",
              "          const docLinkHtml = 'Like what you see? Visit the ' +\n",
              "            '<a target=\"_blank\" href=https://colab.research.google.com/notebooks/data_table.ipynb>data table notebook</a>'\n",
              "            + ' to learn more about interactive tables.';\n",
              "          element.innerHTML = '';\n",
              "          dataTable['output_type'] = 'display_data';\n",
              "          await google.colab.output.renderOutput(dataTable, element);\n",
              "          const docLink = document.createElement('div');\n",
              "          docLink.innerHTML = docLinkHtml;\n",
              "          element.appendChild(docLink);\n",
              "        }\n",
              "      </script>\n",
              "    </div>\n",
              "  </div>\n",
              "  "
            ]
          },
          "metadata": {},
          "execution_count": 160
        }
      ]
    },
    {
      "cell_type": "markdown",
      "source": [
        "Избавимся от единственного заметного выбросы"
      ],
      "metadata": {
        "id": "3qEcW5f9RgGA"
      }
    },
    {
      "cell_type": "code",
      "source": [
        "df = df.loc[df['REVENUE']<196]"
      ],
      "metadata": {
        "id": "-7I_g-QYjyJh"
      },
      "execution_count": null,
      "outputs": []
    },
    {
      "cell_type": "code",
      "source": [
        "df_variant = df.loc[(df['VARIANT_NAME'] == 'variant') & (0<df['REVENUE'])]\n",
        "df_control = df.loc[(df['VARIANT_NAME'] != 'variant' ) & (0<df['REVENUE'])]"
      ],
      "metadata": {
        "id": "yLdHLM4VVe9W"
      },
      "execution_count": null,
      "outputs": []
    },
    {
      "cell_type": "markdown",
      "source": [
        "## Анализ экономических метрик\n"
      ],
      "metadata": {
        "id": "WuXW_cWEg560"
      }
    },
    {
      "cell_type": "markdown",
      "source": [
        "### Изменение количества покупок"
      ],
      "metadata": {
        "id": "XFW3HqrjMD_o"
      }
    },
    {
      "cell_type": "code",
      "source": [
        "print(len(df_variant))\n",
        "print(len(df_control))"
      ],
      "metadata": {
        "colab": {
          "base_uri": "https://localhost:8080/"
        },
        "id": "65QbKU5gKItZ",
        "outputId": "9e3d683a-fc7e-4e32-f6e1-34c5589cdb4a"
      },
      "execution_count": null,
      "outputs": [
        {
          "output_type": "stream",
          "name": "stdout",
          "text": [
            "72\n",
            "79\n"
          ]
        }
      ]
    },
    {
      "cell_type": "markdown",
      "source": [
        "### Суммарная выручка\n"
      ],
      "metadata": {
        "id": "Q_0A7F1WkKl-"
      }
    },
    {
      "cell_type": "code",
      "source": [
        "sum(df_control['REVENUE'])"
      ],
      "metadata": {
        "colab": {
          "base_uri": "https://localhost:8080/"
        },
        "id": "txvnnWpXbWFK",
        "outputId": "d4493a37-2540-4146-96d5-455e653bd47b"
      },
      "execution_count": null,
      "outputs": [
        {
          "output_type": "execute_result",
          "data": {
            "text/plain": [
              "446.9900000000001"
            ]
          },
          "metadata": {},
          "execution_count": 164
        }
      ]
    },
    {
      "cell_type": "code",
      "source": [
        "sum(df_variant['REVENUE'])"
      ],
      "metadata": {
        "colab": {
          "base_uri": "https://localhost:8080/"
        },
        "id": "grqCxqKubUDL",
        "outputId": "73d7d7ff-7f74-4f51-a89b-85dd50792239"
      },
      "execution_count": null,
      "outputs": [
        {
          "output_type": "execute_result",
          "data": {
            "text/plain": [
              "351.4700000000001"
            ]
          },
          "metadata": {},
          "execution_count": 165
        }
      ]
    },
    {
      "cell_type": "markdown",
      "source": [
        "Вывод: суммарная выручка за месяц уменьшилась на почти 100 долларов"
      ],
      "metadata": {
        "id": "7nmi7dIQjr2h"
      }
    },
    {
      "cell_type": "markdown",
      "source": [
        "### Величина среднего чека\n",
        "\n",
        "H0 - В ходе изменений на сайте величина среднего чека не изменилась\n",
        "\n",
        "H1 - В ходе изменений на сайте величина среднего чека уменьшилась\n",
        "\n",
        "Средний чек - выручки компании за конкретный период времени, например за месяц, делённая на количество покупок"
      ],
      "metadata": {
        "id": "hooz9NNZvcQm"
      }
    },
    {
      "cell_type": "code",
      "source": [
        "# variant\n",
        "df_mean_check_varient = sum(df_variant['REVENUE'] / len(df_variant))\n",
        "# control\n",
        "df_mean_check_control = sum(df_control['REVENUE']) / len(df_control)\n",
        "print(df_mean_check_varient,df_mean_check_control)"
      ],
      "metadata": {
        "colab": {
          "base_uri": "https://localhost:8080/"
        },
        "id": "p6xPX9sztk4d",
        "outputId": "ad711f4d-795e-472d-d1d4-e5b8b75955c8"
      },
      "execution_count": null,
      "outputs": [
        {
          "output_type": "stream",
          "name": "stdout",
          "text": [
            "4.8815277777777775 5.658101265822786\n"
          ]
        }
      ]
    },
    {
      "cell_type": "code",
      "source": [
        "fig, ax = plt.subplots(figsize=(5,5))\n",
        "sns.histplot(df_variant,x ='REVENUE',stat='count',binwidth=1,multiple=\"dodge\",element =\"poly\")\n",
        "sns.histplot(df_control,x ='REVENUE',stat='count',binwidth=1,multiple=\"dodge\",element =\"poly\",color ='orange')"
      ],
      "metadata": {
        "colab": {
          "base_uri": "https://localhost:8080/"
        },
        "id": "MmnubdegxznY",
        "outputId": "f96e1c2b-a813-4d22-cac9-ddf72fc78bb7"
      },
      "execution_count": null,
      "outputs": [
        {
          "output_type": "execute_result",
          "data": {
            "text/plain": [
              "<Axes: xlabel='REVENUE', ylabel='Count'>"
            ]
          },
          "metadata": {},
          "execution_count": 167
        },
        {
          "output_type": "display_data",
          "data": {
            "text/plain": [
              "<Figure size 360x360 with 1 Axes>"
            ],
            "image/png": "[encoded data removed]"
          },
          "metadata": {
            "needs_background": "light"
          }
        }
      ]
    },
    {
      "cell_type": "markdown",
      "source": [
        "Вывод: Средний чек упал почти на 80 долларов, что также говорит не в пользу изменений"
      ],
      "metadata": {
        "id": "a5FsiB6qm30B"
      }
    },
    {
      "cell_type": "markdown",
      "source": [
        "Но для полного вывода проверим статистическую значимость этого различия\n",
        "\n",
        "Распределение отлично от нормального поэтому\n",
        "Проверим верность гипотезы с помощью критерия Манна Уитни"
      ],
      "metadata": {
        "id": "L_E_x2y2dVrH"
      }
    },
    {
      "cell_type": "code",
      "source": [
        "# variant\n",
        "x = df_variant['REVENUE']\n",
        "x.head(3)"
      ],
      "metadata": {
        "colab": {
          "base_uri": "https://localhost:8080/"
        },
        "id": "iO0-dB4dfPnm",
        "outputId": "3c61165b-a4f5-43f3-9e5e-fff16da62021"
      },
      "execution_count": null,
      "outputs": [
        {
          "output_type": "execute_result",
          "data": {
            "text/plain": [
              "13     2.15\n",
              "139    4.27\n",
              "149    1.75\n",
              "Name: REVENUE, dtype: float64"
            ]
          },
          "metadata": {},
          "execution_count": 168
        }
      ]
    },
    {
      "cell_type": "code",
      "source": [
        "# control\n",
        "y = df_control['REVENUE']\n",
        "y.head(3)"
      ],
      "metadata": {
        "colab": {
          "base_uri": "https://localhost:8080/"
        },
        "id": "_Qm0QpUnfSIA",
        "outputId": "4666800f-62ff-47f0-ff3d-83ea867a8df2"
      },
      "execution_count": null,
      "outputs": [
        {
          "output_type": "execute_result",
          "data": {
            "text/plain": [
              "49     3.25\n",
              "152    2.99\n",
              "333    9.91\n",
              "Name: REVENUE, dtype: float64"
            ]
          },
          "metadata": {},
          "execution_count": 169
        }
      ]
    },
    {
      "cell_type": "code",
      "source": [
        "u1,p = stats.mannwhitneyu(x,y,method = 'exact',alternative = 'less')\n",
        "u2 = len(x)*len(y) - u1\n",
        "print(u1,u2,p)"
      ],
      "metadata": {
        "colab": {
          "base_uri": "https://localhost:8080/"
        },
        "id": "hLBAaLDbfSE9",
        "outputId": "56b1d342-af46-43d7-aa3b-3b6ff3a7319c"
      },
      "execution_count": null,
      "outputs": [
        {
          "output_type": "stream",
          "name": "stdout",
          "text": [
            "2404.0 3284.0 0.05083135934993447\n"
          ]
        }
      ]
    },
    {
      "cell_type": "markdown",
      "source": [
        "Конечно, порог в 0.05 уровня значимости не был преодолен, но я считаю, что для интернет магазина, недобор в 0.0008, не значителен => эти результаты следует отнести к статистически значимым => у нас есть основания отмести 0 гипотезу и принять альтернативную"
      ],
      "metadata": {
        "id": "Sb05WPNMgNnD"
      }
    },
    {
      "cell_type": "markdown",
      "source": [
        "### Конверсия\n",
        "Конверсия - количество реальных клиентов на количество потенциальных и умножить на 100%"
      ],
      "metadata": {
        "id": "atAVh4bNO5Wg"
      }
    },
    {
      "cell_type": "code",
      "source": [
        "df_conversion_variant = len(df_variant['REVENUE'])/len(df.loc[(df[\"VARIANT_NAME\"] == 'variant')])\n",
        "df_conversion_control = len(df_control['REVENUE'])/len(df.loc[(df[\"VARIANT_NAME\"] != 'variant')])\n",
        "print(df_conversion_control*100,df_conversion_variant*100)"
      ],
      "metadata": {
        "id": "Jc43JcKZQxfh",
        "colab": {
          "base_uri": "https://localhost:8080/"
        },
        "outputId": "369482f7-a887-4e68-eb71-fdf7f9d31400"
      },
      "execution_count": null,
      "outputs": [
        {
          "output_type": "stream",
          "name": "stdout",
          "text": [
            "1.5853903271121814 1.4354066985645932\n"
          ]
        }
      ]
    },
    {
      "cell_type": "markdown",
      "source": [
        "Конверсия упала примерно на 0,15%, чтобы проверить значимость таких различий используем критерий Хи-квадрат\n",
        "\n",
        "H0 - В ходе изменений на сайте величина конверсии не изменилась\n",
        "\n",
        "H1 - В ходе изменений на сайте величина конверсии уменьшилась"
      ],
      "metadata": {
        "id": "_zw5uTfso-nS"
      }
    },
    {
      "cell_type": "markdown",
      "source": [
        "Составляю таблицу сопряженности"
      ],
      "metadata": {
        "id": "OSjl565XGPgV"
      }
    },
    {
      "cell_type": "code",
      "source": [
        "control_buy = len(df_control['REVENUE'])\n",
        "control_nbuy = len(df.loc[(df[\"VARIANT_NAME\"] != 'variant') & (df[\"REVENUE\"] == 0) ])\n",
        "variant_buy = len(df_variant['REVENUE'])\n",
        "variant_nbuy = len(df.loc[(df[\"VARIANT_NAME\"] == 'variant') & (df[\"REVENUE\"] == 0) ])"
      ],
      "metadata": {
        "id": "7yygbUsgAPol"
      },
      "execution_count": null,
      "outputs": []
    },
    {
      "cell_type": "code",
      "source": [
        "\n",
        "contingency_table = pd.DataFrame({'_':['Купили','Не купили','Total'],\n",
        "                                  'Control':[control_buy,control_nbuy,control_buy+control_nbuy],\n",
        "                                  'Variant':[variant_buy,variant_nbuy,variant_buy+variant_nbuy],\n",
        "                                  'Total':[control_buy+variant_buy,control_nbuy+variant_nbuy,control_buy+control_nbuy+variant_buy+variant_nbuy]})\n"
      ],
      "metadata": {
        "id": "UlajNaBs9wAd"
      },
      "execution_count": null,
      "outputs": []
    },
    {
      "cell_type": "code",
      "source": [
        "contingency_table.head(5)"
      ],
      "metadata": {
        "colab": {
          "base_uri": "https://localhost:8080/",
          "height": 143
        },
        "id": "KQxY5p5K9v-S",
        "outputId": "72103cef-38dd-4629-9c3c-d43b97178ee6"
      },
      "execution_count": null,
      "outputs": [
        {
          "output_type": "execute_result",
          "data": {
            "text/plain": [
              "           _  Control  Variant  Total\n",
              "0     Купили       79       72    151\n",
              "1  Не купили     4904     4944   9848\n",
              "2      Total     4983     5016   9999"
            ],
            "text/html": [
              "\n",
              "  <div id=\"df-d1df58cd-1bc3-4169-8abc-37c9ad9527c4\">\n",
              "    <div class=\"colab-df-container\">\n",
              "      <div>\n",
              "<style scoped>\n",
              "    .dataframe tbody tr th:only-of-type {\n",
              "        vertical-align: middle;\n",
              "    }\n",
              "\n",
              "    .dataframe tbody tr th {\n",
              "        vertical-align: top;\n",
              "    }\n",
              "\n",
              "    .dataframe thead th {\n",
              "        text-align: right;\n",
              "    }\n",
              "</style>\n",
              "<table border=\"1\" class=\"dataframe\">\n",
              "  <thead>\n",
              "    <tr style=\"text-align: right;\">\n",
              "      <th></th>\n",
              "      <th>_</th>\n",
              "      <th>Control</th>\n",
              "      <th>Variant</th>\n",
              "      <th>Total</th>\n",
              "    </tr>\n",
              "  </thead>\n",
              "  <tbody>\n",
              "    <tr>\n",
              "      <th>0</th>\n",
              "      <td>Купили</td>\n",
              "      <td>79</td>\n",
              "      <td>72</td>\n",
              "      <td>151</td>\n",
              "    </tr>\n",
              "    <tr>\n",
              "      <th>1</th>\n",
              "      <td>Не купили</td>\n",
              "      <td>4904</td>\n",
              "      <td>4944</td>\n",
              "      <td>9848</td>\n",
              "    </tr>\n",
              "    <tr>\n",
              "      <th>2</th>\n",
              "      <td>Total</td>\n",
              "      <td>4983</td>\n",
              "      <td>5016</td>\n",
              "      <td>9999</td>\n",
              "    </tr>\n",
              "  </tbody>\n",
              "</table>\n",
              "</div>\n",
              "      <button class=\"colab-df-convert\" onclick=\"convertToInteractive('df-d1df58cd-1bc3-4169-8abc-37c9ad9527c4')\"\n",
              "              title=\"Convert this dataframe to an interactive table.\"\n",
              "              style=\"display:none;\">\n",
              "        \n",
              "  <svg xmlns=\"http://www.w3.org/2000/svg\" height=\"24px\"viewBox=\"0 0 24 24\"\n",
              "       width=\"24px\">\n",
              "    <path d=\"M0 0h24v24H0V0z\" fill=\"none\"/>\n",
              "    <path d=\"M18.56 5.44l.94 2.06.94-2.06 2.06-.94-2.06-.94-.94-2.06-.94 2.06-2.06.94zm-11 1L8.5 8.5l.94-2.06 2.06-.94-2.06-.94L8.5 2.5l-.94 2.06-2.06.94zm10 10l.94 2.06.94-2.06 2.06-.94-2.06-.94-.94-2.06-.94 2.06-2.06.94z\"/><path d=\"M17.41 7.96l-1.37-1.37c-.4-.4-.92-.59-1.43-.59-.52 0-1.04.2-1.43.59L10.3 9.45l-7.72 7.72c-.78.78-.78 2.05 0 2.83L4 21.41c.39.39.9.59 1.41.59.51 0 1.02-.2 1.41-.59l7.78-7.78 2.81-2.81c.8-.78.8-2.07 0-2.86zM5.41 20L4 18.59l7.72-7.72 1.47 1.35L5.41 20z\"/>\n",
              "  </svg>\n",
              "      </button>\n",
              "      \n",
              "  <style>\n",
              "    .colab-df-container {\n",
              "      display:flex;\n",
              "      flex-wrap:wrap;\n",
              "      gap: 12px;\n",
              "    }\n",
              "\n",
              "    .colab-df-convert {\n",
              "      background-color: #E8F0FE;\n",
              "      border: none;\n",
              "      border-radius: 50%;\n",
              "      cursor: pointer;\n",
              "      display: none;\n",
              "      fill: #1967D2;\n",
              "      height: 32px;\n",
              "      padding: 0 0 0 0;\n",
              "      width: 32px;\n",
              "    }\n",
              "\n",
              "    .colab-df-convert:hover {\n",
              "      background-color: #E2EBFA;\n",
              "      box-shadow: 0px 1px 2px rgba(60, 64, 67, 0.3), 0px 1px 3px 1px rgba(60, 64, 67, 0.15);\n",
              "      fill: #174EA6;\n",
              "    }\n",
              "\n",
              "    [theme=dark] .colab-df-convert {\n",
              "      background-color: #3B4455;\n",
              "      fill: #D2E3FC;\n",
              "    }\n",
              "\n",
              "    [theme=dark] .colab-df-convert:hover {\n",
              "      background-color: #434B5C;\n",
              "      box-shadow: 0px 1px 3px 1px rgba(0, 0, 0, 0.15);\n",
              "      filter: drop-shadow(0px 1px 2px rgba(0, 0, 0, 0.3));\n",
              "      fill: #FFFFFF;\n",
              "    }\n",
              "  </style>\n",
              "\n",
              "      <script>\n",
              "        const buttonEl =\n",
              "          document.querySelector('#df-d1df58cd-1bc3-4169-8abc-37c9ad9527c4 button.colab-df-convert');\n",
              "        buttonEl.style.display =\n",
              "          google.colab.kernel.accessAllowed ? 'block' : 'none';\n",
              "\n",
              "        async function convertToInteractive(key) {\n",
              "          const element = document.querySelector('#df-d1df58cd-1bc3-4169-8abc-37c9ad9527c4');\n",
              "          const dataTable =\n",
              "            await google.colab.kernel.invokeFunction('convertToInteractive',\n",
              "                                                     [key], {});\n",
              "          if (!dataTable) return;\n",
              "\n",
              "          const docLinkHtml = 'Like what you see? Visit the ' +\n",
              "            '<a target=\"_blank\" href=https://colab.research.google.com/notebooks/data_table.ipynb>data table notebook</a>'\n",
              "            + ' to learn more about interactive tables.';\n",
              "          element.innerHTML = '';\n",
              "          dataTable['output_type'] = 'display_data';\n",
              "          await google.colab.output.renderOutput(dataTable, element);\n",
              "          const docLink = document.createElement('div');\n",
              "          docLink.innerHTML = docLinkHtml;\n",
              "          element.appendChild(docLink);\n",
              "        }\n",
              "      </script>\n",
              "    </div>\n",
              "  </div>\n",
              "  "
            ]
          },
          "metadata": {},
          "execution_count": 174
        }
      ]
    },
    {
      "cell_type": "markdown",
      "source": [
        "Ожидаемая частота = (сумма строк * сумма столбцов) / сумма таблицы\n",
        "\n"
      ],
      "metadata": {
        "id": "XIs996LVGNV4"
      }
    },
    {
      "cell_type": "code",
      "source": [
        "# Ожидаемая частота купивших control\n",
        "expected_per_control = (contingency_table['Total'][0] * contingency_table['Control'][2])/contingency_table['Total'][2]\n",
        "# Ожидаемая частота купивших variant\n",
        "expected_per_variant = (contingency_table['Total'][0] * contingency_table['Variant'][2])/contingency_table['Total'][2]\n",
        "print(expected_per_control,expected_per_variant)"
      ],
      "metadata": {
        "colab": {
          "base_uri": "https://localhost:8080/"
        },
        "id": "-Hl__I-RF_WL",
        "outputId": "eed53306-d836-404c-f31b-90cb8fa10fc2"
      },
      "execution_count": null,
      "outputs": [
        {
          "output_type": "stream",
          "name": "stdout",
          "text": [
            "75.25082508250826 75.74917491749174\n"
          ]
        }
      ]
    },
    {
      "cell_type": "code",
      "source": [
        "stats.chisquare(f_obs=[contingency_table['Control'][0],contingency_table['Variant'][0]],\n",
        "    f_exp=[expected_per_control,expected_per_variant])"
      ],
      "metadata": {
        "colab": {
          "base_uri": "https://localhost:8080/"
        },
        "id": "HK7D0IJ-F_SU",
        "outputId": "993db114-ab3b-4870-c504-a2d9e55b943e"
      },
      "execution_count": null,
      "outputs": [
        {
          "output_type": "execute_result",
          "data": {
            "text/plain": [
              "Power_divergenceResult(statistic=0.3723567064233089, pvalue=0.54172245539968)"
            ]
          },
          "metadata": {},
          "execution_count": 176
        }
      ]
    },
    {
      "cell_type": "markdown",
      "source": [
        "Вывод: Изменения конверсии выявленные нами ранее, не являются статистически значимыми"
      ],
      "metadata": {
        "id": "H5l2v5JRPRbK"
      }
    },
    {
      "cell_type": "markdown",
      "source": [
        "### Изменения количества покупок взависимости от ценовой категории"
      ],
      "metadata": {
        "id": "btxCsifWLYI-"
      }
    },
    {
      "cell_type": "markdown",
      "source": [
        "Т.к конверсия не изменилась, а средний чек упал, то логично, что пользователи стали чаще покупать более дешевые товары и реже более дорогие, разделим на 4 категории по перцентилям:\n",
        "\n",
        "* First -  Покупки больше 0 - меньше или равно 1.25 Долларов\n",
        "* Second - Покупки больше 1.25 - меньше или равно 2.34 Долларов\n",
        "* Third - Покупки больше 2.34 - и меньше или равно 4.52 Долларов\n",
        "* Fourth - Покупки больше 4.52 - и выше"
      ],
      "metadata": {
        "id": "9ZnSW2TgLQMT"
      }
    },
    {
      "cell_type": "code",
      "source": [
        "df['GROUPS_REV'] = df['REVENUE']\n",
        "df.loc[(df['REVENUE'] > 0) & (df['REVENUE'] <= 1.25),('GROUPS_REV')] = 'first'\n",
        "df.loc[(df['REVENUE'] > 1.25) & (df['REVENUE'] <= 2.34),('GROUPS_REV')] ='second'\n",
        "df.loc[(df['REVENUE'] > 2.34) & (df['REVENUE'] <= 4.52),('GROUPS_REV')]= 'third'\n",
        "df.loc[(df['REVENUE'] > 4.52),('GROUPS_REV')] = 'fourth'"
      ],
      "metadata": {
        "id": "pbigkZ0-Megv"
      },
      "execution_count": null,
      "outputs": []
    },
    {
      "cell_type": "code",
      "source": [
        "df_control_cases = df.loc[(df['VARIANT_NAME'] == 'variant') & (0<df['REVENUE'])]\n",
        "df_variant_cases = df.loc[(df['VARIANT_NAME'] != 'variant' ) & (0<df['REVENUE'])]"
      ],
      "metadata": {
        "id": "fYoeXrXJNt8a"
      },
      "execution_count": null,
      "outputs": []
    },
    {
      "cell_type": "code",
      "source": [
        "df_variant_cases\n",
        "df_variant_cases.head(3)"
      ],
      "metadata": {
        "colab": {
          "base_uri": "https://localhost:8080/",
          "height": 143
        },
        "id": "Scm-CO_1N3AA",
        "outputId": "215ac7c9-2c6b-450e-daac-e51c48d3ef1b"
      },
      "execution_count": null,
      "outputs": [
        {
          "output_type": "execute_result",
          "data": {
            "text/plain": [
              "     USER_ID VARIANT_NAME  REVENUE GROUPS_REV\n",
              "49      6429      control     3.25      third\n",
              "152     8607      control     2.99      third\n",
              "333     8020      control     9.91     fourth"
            ],
            "text/html": [
              "\n",
              "  <div id=\"df-98794cb0-4fd2-4f0e-915f-cccb66a4fbbb\">\n",
              "    <div class=\"colab-df-container\">\n",
              "      <div>\n",
              "<style scoped>\n",
              "    .dataframe tbody tr th:only-of-type {\n",
              "        vertical-align: middle;\n",
              "    }\n",
              "\n",
              "    .dataframe tbody tr th {\n",
              "        vertical-align: top;\n",
              "    }\n",
              "\n",
              "    .dataframe thead th {\n",
              "        text-align: right;\n",
              "    }\n",
              "</style>\n",
              "<table border=\"1\" class=\"dataframe\">\n",
              "  <thead>\n",
              "    <tr style=\"text-align: right;\">\n",
              "      <th></th>\n",
              "      <th>USER_ID</th>\n",
              "      <th>VARIANT_NAME</th>\n",
              "      <th>REVENUE</th>\n",
              "      <th>GROUPS_REV</th>\n",
              "    </tr>\n",
              "  </thead>\n",
              "  <tbody>\n",
              "    <tr>\n",
              "      <th>49</th>\n",
              "      <td>6429</td>\n",
              "      <td>control</td>\n",
              "      <td>3.25</td>\n",
              "      <td>third</td>\n",
              "    </tr>\n",
              "    <tr>\n",
              "      <th>152</th>\n",
              "      <td>8607</td>\n",
              "      <td>control</td>\n",
              "      <td>2.99</td>\n",
              "      <td>third</td>\n",
              "    </tr>\n",
              "    <tr>\n",
              "      <th>333</th>\n",
              "      <td>8020</td>\n",
              "      <td>control</td>\n",
              "      <td>9.91</td>\n",
              "      <td>fourth</td>\n",
              "    </tr>\n",
              "  </tbody>\n",
              "</table>\n",
              "</div>\n",
              "      <button class=\"colab-df-convert\" onclick=\"convertToInteractive('df-98794cb0-4fd2-4f0e-915f-cccb66a4fbbb')\"\n",
              "              title=\"Convert this dataframe to an interactive table.\"\n",
              "              style=\"display:none;\">\n",
              "        \n",
              "  <svg xmlns=\"http://www.w3.org/2000/svg\" height=\"24px\"viewBox=\"0 0 24 24\"\n",
              "       width=\"24px\">\n",
              "    <path d=\"M0 0h24v24H0V0z\" fill=\"none\"/>\n",
              "    <path d=\"M18.56 5.44l.94 2.06.94-2.06 2.06-.94-2.06-.94-.94-2.06-.94 2.06-2.06.94zm-11 1L8.5 8.5l.94-2.06 2.06-.94-2.06-.94L8.5 2.5l-.94 2.06-2.06.94zm10 10l.94 2.06.94-2.06 2.06-.94-2.06-.94-.94-2.06-.94 2.06-2.06.94z\"/><path d=\"M17.41 7.96l-1.37-1.37c-.4-.4-.92-.59-1.43-.59-.52 0-1.04.2-1.43.59L10.3 9.45l-7.72 7.72c-.78.78-.78 2.05 0 2.83L4 21.41c.39.39.9.59 1.41.59.51 0 1.02-.2 1.41-.59l7.78-7.78 2.81-2.81c.8-.78.8-2.07 0-2.86zM5.41 20L4 18.59l7.72-7.72 1.47 1.35L5.41 20z\"/>\n",
              "  </svg>\n",
              "      </button>\n",
              "      \n",
              "  <style>\n",
              "    .colab-df-container {\n",
              "      display:flex;\n",
              "      flex-wrap:wrap;\n",
              "      gap: 12px;\n",
              "    }\n",
              "\n",
              "    .colab-df-convert {\n",
              "      background-color: #E8F0FE;\n",
              "      border: none;\n",
              "      border-radius: 50%;\n",
              "      cursor: pointer;\n",
              "      display: none;\n",
              "      fill: #1967D2;\n",
              "      height: 32px;\n",
              "      padding: 0 0 0 0;\n",
              "      width: 32px;\n",
              "    }\n",
              "\n",
              "    .colab-df-convert:hover {\n",
              "      background-color: #E2EBFA;\n",
              "      box-shadow: 0px 1px 2px rgba(60, 64, 67, 0.3), 0px 1px 3px 1px rgba(60, 64, 67, 0.15);\n",
              "      fill: #174EA6;\n",
              "    }\n",
              "\n",
              "    [theme=dark] .colab-df-convert {\n",
              "      background-color: #3B4455;\n",
              "      fill: #D2E3FC;\n",
              "    }\n",
              "\n",
              "    [theme=dark] .colab-df-convert:hover {\n",
              "      background-color: #434B5C;\n",
              "      box-shadow: 0px 1px 3px 1px rgba(0, 0, 0, 0.15);\n",
              "      filter: drop-shadow(0px 1px 2px rgba(0, 0, 0, 0.3));\n",
              "      fill: #FFFFFF;\n",
              "    }\n",
              "  </style>\n",
              "\n",
              "      <script>\n",
              "        const buttonEl =\n",
              "          document.querySelector('#df-98794cb0-4fd2-4f0e-915f-cccb66a4fbbb button.colab-df-convert');\n",
              "        buttonEl.style.display =\n",
              "          google.colab.kernel.accessAllowed ? 'block' : 'none';\n",
              "\n",
              "        async function convertToInteractive(key) {\n",
              "          const element = document.querySelector('#df-98794cb0-4fd2-4f0e-915f-cccb66a4fbbb');\n",
              "          const dataTable =\n",
              "            await google.colab.kernel.invokeFunction('convertToInteractive',\n",
              "                                                     [key], {});\n",
              "          if (!dataTable) return;\n",
              "\n",
              "          const docLinkHtml = 'Like what you see? Visit the ' +\n",
              "            '<a target=\"_blank\" href=https://colab.research.google.com/notebooks/data_table.ipynb>data table notebook</a>'\n",
              "            + ' to learn more about interactive tables.';\n",
              "          element.innerHTML = '';\n",
              "          dataTable['output_type'] = 'display_data';\n",
              "          await google.colab.output.renderOutput(dataTable, element);\n",
              "          const docLink = document.createElement('div');\n",
              "          docLink.innerHTML = docLinkHtml;\n",
              "          element.appendChild(docLink);\n",
              "        }\n",
              "      </script>\n",
              "    </div>\n",
              "  </div>\n",
              "  "
            ]
          },
          "metadata": {},
          "execution_count": 214
        }
      ]
    },
    {
      "cell_type": "code",
      "source": [
        "df_control_cases\n",
        "df_control_cases.head(3)"
      ],
      "metadata": {
        "colab": {
          "base_uri": "https://localhost:8080/",
          "height": 143
        },
        "id": "juVSFAL3N3dw",
        "outputId": "584b82f5-0193-4273-c658-19275ce8faf0"
      },
      "execution_count": null,
      "outputs": [
        {
          "output_type": "execute_result",
          "data": {
            "text/plain": [
              "     USER_ID VARIANT_NAME  REVENUE GROUPS_REV\n",
              "13      2529      variant     2.15     second\n",
              "139     3331      variant     4.27      third\n",
              "149     8110      variant     1.75     second"
            ],
            "text/html": [
              "\n",
              "  <div id=\"df-ee4df593-4896-4e70-8e0d-33f5abe32b82\">\n",
              "    <div class=\"colab-df-container\">\n",
              "      <div>\n",
              "<style scoped>\n",
              "    .dataframe tbody tr th:only-of-type {\n",
              "        vertical-align: middle;\n",
              "    }\n",
              "\n",
              "    .dataframe tbody tr th {\n",
              "        vertical-align: top;\n",
              "    }\n",
              "\n",
              "    .dataframe thead th {\n",
              "        text-align: right;\n",
              "    }\n",
              "</style>\n",
              "<table border=\"1\" class=\"dataframe\">\n",
              "  <thead>\n",
              "    <tr style=\"text-align: right;\">\n",
              "      <th></th>\n",
              "      <th>USER_ID</th>\n",
              "      <th>VARIANT_NAME</th>\n",
              "      <th>REVENUE</th>\n",
              "      <th>GROUPS_REV</th>\n",
              "    </tr>\n",
              "  </thead>\n",
              "  <tbody>\n",
              "    <tr>\n",
              "      <th>13</th>\n",
              "      <td>2529</td>\n",
              "      <td>variant</td>\n",
              "      <td>2.15</td>\n",
              "      <td>second</td>\n",
              "    </tr>\n",
              "    <tr>\n",
              "      <th>139</th>\n",
              "      <td>3331</td>\n",
              "      <td>variant</td>\n",
              "      <td>4.27</td>\n",
              "      <td>third</td>\n",
              "    </tr>\n",
              "    <tr>\n",
              "      <th>149</th>\n",
              "      <td>8110</td>\n",
              "      <td>variant</td>\n",
              "      <td>1.75</td>\n",
              "      <td>second</td>\n",
              "    </tr>\n",
              "  </tbody>\n",
              "</table>\n",
              "</div>\n",
              "      <button class=\"colab-df-convert\" onclick=\"convertToInteractive('df-ee4df593-4896-4e70-8e0d-33f5abe32b82')\"\n",
              "              title=\"Convert this dataframe to an interactive table.\"\n",
              "              style=\"display:none;\">\n",
              "        \n",
              "  <svg xmlns=\"http://www.w3.org/2000/svg\" height=\"24px\"viewBox=\"0 0 24 24\"\n",
              "       width=\"24px\">\n",
              "    <path d=\"M0 0h24v24H0V0z\" fill=\"none\"/>\n",
              "    <path d=\"M18.56 5.44l.94 2.06.94-2.06 2.06-.94-2.06-.94-.94-2.06-.94 2.06-2.06.94zm-11 1L8.5 8.5l.94-2.06 2.06-.94-2.06-.94L8.5 2.5l-.94 2.06-2.06.94zm10 10l.94 2.06.94-2.06 2.06-.94-2.06-.94-.94-2.06-.94 2.06-2.06.94z\"/><path d=\"M17.41 7.96l-1.37-1.37c-.4-.4-.92-.59-1.43-.59-.52 0-1.04.2-1.43.59L10.3 9.45l-7.72 7.72c-.78.78-.78 2.05 0 2.83L4 21.41c.39.39.9.59 1.41.59.51 0 1.02-.2 1.41-.59l7.78-7.78 2.81-2.81c.8-.78.8-2.07 0-2.86zM5.41 20L4 18.59l7.72-7.72 1.47 1.35L5.41 20z\"/>\n",
              "  </svg>\n",
              "      </button>\n",
              "      \n",
              "  <style>\n",
              "    .colab-df-container {\n",
              "      display:flex;\n",
              "      flex-wrap:wrap;\n",
              "      gap: 12px;\n",
              "    }\n",
              "\n",
              "    .colab-df-convert {\n",
              "      background-color: #E8F0FE;\n",
              "      border: none;\n",
              "      border-radius: 50%;\n",
              "      cursor: pointer;\n",
              "      display: none;\n",
              "      fill: #1967D2;\n",
              "      height: 32px;\n",
              "      padding: 0 0 0 0;\n",
              "      width: 32px;\n",
              "    }\n",
              "\n",
              "    .colab-df-convert:hover {\n",
              "      background-color: #E2EBFA;\n",
              "      box-shadow: 0px 1px 2px rgba(60, 64, 67, 0.3), 0px 1px 3px 1px rgba(60, 64, 67, 0.15);\n",
              "      fill: #174EA6;\n",
              "    }\n",
              "\n",
              "    [theme=dark] .colab-df-convert {\n",
              "      background-color: #3B4455;\n",
              "      fill: #D2E3FC;\n",
              "    }\n",
              "\n",
              "    [theme=dark] .colab-df-convert:hover {\n",
              "      background-color: #434B5C;\n",
              "      box-shadow: 0px 1px 3px 1px rgba(0, 0, 0, 0.15);\n",
              "      filter: drop-shadow(0px 1px 2px rgba(0, 0, 0, 0.3));\n",
              "      fill: #FFFFFF;\n",
              "    }\n",
              "  </style>\n",
              "\n",
              "      <script>\n",
              "        const buttonEl =\n",
              "          document.querySelector('#df-ee4df593-4896-4e70-8e0d-33f5abe32b82 button.colab-df-convert');\n",
              "        buttonEl.style.display =\n",
              "          google.colab.kernel.accessAllowed ? 'block' : 'none';\n",
              "\n",
              "        async function convertToInteractive(key) {\n",
              "          const element = document.querySelector('#df-ee4df593-4896-4e70-8e0d-33f5abe32b82');\n",
              "          const dataTable =\n",
              "            await google.colab.kernel.invokeFunction('convertToInteractive',\n",
              "                                                     [key], {});\n",
              "          if (!dataTable) return;\n",
              "\n",
              "          const docLinkHtml = 'Like what you see? Visit the ' +\n",
              "            '<a target=\"_blank\" href=https://colab.research.google.com/notebooks/data_table.ipynb>data table notebook</a>'\n",
              "            + ' to learn more about interactive tables.';\n",
              "          element.innerHTML = '';\n",
              "          dataTable['output_type'] = 'display_data';\n",
              "          await google.colab.output.renderOutput(dataTable, element);\n",
              "          const docLink = document.createElement('div');\n",
              "          docLink.innerHTML = docLinkHtml;\n",
              "          element.appendChild(docLink);\n",
              "        }\n",
              "      </script>\n",
              "    </div>\n",
              "  </div>\n",
              "  "
            ]
          },
          "metadata": {},
          "execution_count": 215
        }
      ]
    },
    {
      "cell_type": "code",
      "source": [
        "control_fr = len(df_control_cases.loc[df_control_cases['GROUPS_REV'] == 'first'])\n",
        "control_sc = len(df_control_cases.loc[df_control_cases['GROUPS_REV'] == 'second'])\n",
        "control_th = len(df_control_cases.loc[df_control_cases['GROUPS_REV'] == 'third'])\n",
        "control_fo = len(df_control_cases.loc[df_control_cases['GROUPS_REV'] == 'fourth'])\n",
        "\n",
        "variant_fr = len(df_variant_cases.loc[df_variant_cases['GROUPS_REV'] == 'first'])\n",
        "variant_sc = len(df_variant_cases.loc[df_variant_cases['GROUPS_REV'] == 'second'])\n",
        "variant_th = len(df_variant_cases.loc[df_variant_cases['GROUPS_REV'] == 'third'])\n",
        "variant_fo = len(df_variant_cases.loc[df_variant_cases['GROUPS_REV'] == 'fourth'])"
      ],
      "metadata": {
        "id": "et28bYXAU0J5"
      },
      "execution_count": null,
      "outputs": []
    },
    {
      "cell_type": "code",
      "source": [
        "print(control_fr,variant_fr)\n",
        "print(control_sc,variant_sc)\n",
        "print(control_th,variant_th)\n",
        "print(control_fo,variant_fo)"
      ],
      "metadata": {
        "colab": {
          "base_uri": "https://localhost:8080/"
        },
        "id": "6mc1aYWXVIS3",
        "outputId": "37c8c890-2091-438e-885e-c51fde31fc71"
      },
      "execution_count": null,
      "outputs": [
        {
          "output_type": "stream",
          "name": "stdout",
          "text": [
            "23 17\n",
            "16 20\n",
            "19 19\n",
            "14 23\n"
          ]
        }
      ]
    },
    {
      "cell_type": "code",
      "source": [
        "fig, ax = plt.subplots(figsize=(6,6))\n",
        "sns.histplot(df.loc[(df['REVENUE'] > 0)],x ='GROUPS_REV',stat='count',hue = 'VARIANT_NAME',multiple=\"dodge\",color = 'green')\n"
      ],
      "metadata": {
        "colab": {
          "base_uri": "https://localhost:8080/",
          "height": 406
        },
        "id": "Rt5wkEweSOC1",
        "outputId": "94bdb473-9383-4ba9-a0ff-ff3406dd9544"
      },
      "execution_count": null,
      "outputs": [
        {
          "output_type": "execute_result",
          "data": {
            "text/plain": [
              "<Axes: xlabel='GROUPS_REV', ylabel='Count'>"
            ]
          },
          "metadata": {},
          "execution_count": 228
        },
        {
          "output_type": "display_data",
          "data": {
            "text/plain": [
              "<Figure size 432x432 with 1 Axes>"
            ],
            "image/png": "[encoded data removed]"
          },
          "metadata": {
            "needs_background": "light"
          }
        }
      ]
    },
    {
      "cell_type": "markdown",
      "source": [
        "На графике мы видим, что количество товаров из второй и четвертой группой уменьшилось, в третьей группе все осталось без именений,а вот в количество проданных товаров из первой группы значительно увеличилось\n",
        "\n",
        "Проверим значимость таких результатов для каждой из групп также через критерий Хи-квадрат\n",
        "\n",
        "* First\n",
        "  - H0: В ходе изменений на сайте количество проданых товаров из первой ценовой категории не изменилось\n",
        "  - H1: В ходе изменений на сайте количество проданых товаров из первой ценовой категории увеличилось\n",
        "\n",
        "* Second\n",
        "  - H0: В ходе изменений на сайте количество проданых товаров из второй ценовой категории не изменилось\n",
        "  - H1: В ходе изменений на сайте количество проданых товаров из первой ценовой категории уменьшилось\n",
        "\n",
        "* Third\n",
        "  - H0: В ходе изменений на сайте количество проданых товаров из третьей ценовой категории не изменилось\n",
        "  - H1: В ходе изменений на сайте количество проданых товаров из третьей ценовой категории изменилось\n",
        "\n",
        "* Fourth\n",
        "  - H0: В ходе изменений на сайте количество проданых товаров из четвертой ценовой категории не изменилось\n",
        "  - H1: В ходе изменений на сайте количество проданых товаров из четвертой ценовой категории уменьшилось"
      ],
      "metadata": {
        "id": "ldqoE4KTRTpy"
      }
    },
    {
      "cell_type": "markdown",
      "source": [
        "Таблица сопряженности"
      ],
      "metadata": {
        "id": "HuZ1LLK1WScF"
      }
    },
    {
      "cell_type": "code",
      "source": [
        "contingency_table_2 = pd.DataFrame({'_':['First','Second','Third','Fourht','Total'],\n",
        "                                    'Control':[control_fr,control_sc,control_th,control_fo,control_buy],\n",
        "                                    'Variant':[variant_fr,variant_sc,variant_th,variant_fo,variant_buy],\n",
        "                                    'Total':[control_fr+variant_fr,control_sc+variant_sc,control_th+variant_th,control_fo+variant_fo,control_buy+variant_buy],\n",
        "                                    })\n"
      ],
      "metadata": {
        "id": "BDa-711FQvPi"
      },
      "execution_count": null,
      "outputs": []
    },
    {
      "cell_type": "code",
      "source": [
        "contingency_table_2.head()"
      ],
      "metadata": {
        "colab": {
          "base_uri": "https://localhost:8080/",
          "height": 206
        },
        "id": "09x2EyDmQvKJ",
        "outputId": "54f5d962-98e6-4622-9713-e48e5c26b0eb"
      },
      "execution_count": null,
      "outputs": [
        {
          "output_type": "execute_result",
          "data": {
            "text/plain": [
              "        _  Control  Variant  Total\n",
              "0   First       23       17     40\n",
              "1  Second       16       20     36\n",
              "2   Third       19       19     38\n",
              "3  Fourht       14       23     37\n",
              "4   Total       79       72    151"
            ],
            "text/html": [
              "\n",
              "  <div id=\"df-80d8643e-7fd3-466e-8c36-bd1ee4b980ce\">\n",
              "    <div class=\"colab-df-container\">\n",
              "      <div>\n",
              "<style scoped>\n",
              "    .dataframe tbody tr th:only-of-type {\n",
              "        vertical-align: middle;\n",
              "    }\n",
              "\n",
              "    .dataframe tbody tr th {\n",
              "        vertical-align: top;\n",
              "    }\n",
              "\n",
              "    .dataframe thead th {\n",
              "        text-align: right;\n",
              "    }\n",
              "</style>\n",
              "<table border=\"1\" class=\"dataframe\">\n",
              "  <thead>\n",
              "    <tr style=\"text-align: right;\">\n",
              "      <th></th>\n",
              "      <th>_</th>\n",
              "      <th>Control</th>\n",
              "      <th>Variant</th>\n",
              "      <th>Total</th>\n",
              "    </tr>\n",
              "  </thead>\n",
              "  <tbody>\n",
              "    <tr>\n",
              "      <th>0</th>\n",
              "      <td>First</td>\n",
              "      <td>23</td>\n",
              "      <td>17</td>\n",
              "      <td>40</td>\n",
              "    </tr>\n",
              "    <tr>\n",
              "      <th>1</th>\n",
              "      <td>Second</td>\n",
              "      <td>16</td>\n",
              "      <td>20</td>\n",
              "      <td>36</td>\n",
              "    </tr>\n",
              "    <tr>\n",
              "      <th>2</th>\n",
              "      <td>Third</td>\n",
              "      <td>19</td>\n",
              "      <td>19</td>\n",
              "      <td>38</td>\n",
              "    </tr>\n",
              "    <tr>\n",
              "      <th>3</th>\n",
              "      <td>Fourht</td>\n",
              "      <td>14</td>\n",
              "      <td>23</td>\n",
              "      <td>37</td>\n",
              "    </tr>\n",
              "    <tr>\n",
              "      <th>4</th>\n",
              "      <td>Total</td>\n",
              "      <td>79</td>\n",
              "      <td>72</td>\n",
              "      <td>151</td>\n",
              "    </tr>\n",
              "  </tbody>\n",
              "</table>\n",
              "</div>\n",
              "      <button class=\"colab-df-convert\" onclick=\"convertToInteractive('df-80d8643e-7fd3-466e-8c36-bd1ee4b980ce')\"\n",
              "              title=\"Convert this dataframe to an interactive table.\"\n",
              "              style=\"display:none;\">\n",
              "        \n",
              "  <svg xmlns=\"http://www.w3.org/2000/svg\" height=\"24px\"viewBox=\"0 0 24 24\"\n",
              "       width=\"24px\">\n",
              "    <path d=\"M0 0h24v24H0V0z\" fill=\"none\"/>\n",
              "    <path d=\"M18.56 5.44l.94 2.06.94-2.06 2.06-.94-2.06-.94-.94-2.06-.94 2.06-2.06.94zm-11 1L8.5 8.5l.94-2.06 2.06-.94-2.06-.94L8.5 2.5l-.94 2.06-2.06.94zm10 10l.94 2.06.94-2.06 2.06-.94-2.06-.94-.94-2.06-.94 2.06-2.06.94z\"/><path d=\"M17.41 7.96l-1.37-1.37c-.4-.4-.92-.59-1.43-.59-.52 0-1.04.2-1.43.59L10.3 9.45l-7.72 7.72c-.78.78-.78 2.05 0 2.83L4 21.41c.39.39.9.59 1.41.59.51 0 1.02-.2 1.41-.59l7.78-7.78 2.81-2.81c.8-.78.8-2.07 0-2.86zM5.41 20L4 18.59l7.72-7.72 1.47 1.35L5.41 20z\"/>\n",
              "  </svg>\n",
              "      </button>\n",
              "      \n",
              "  <style>\n",
              "    .colab-df-container {\n",
              "      display:flex;\n",
              "      flex-wrap:wrap;\n",
              "      gap: 12px;\n",
              "    }\n",
              "\n",
              "    .colab-df-convert {\n",
              "      background-color: #E8F0FE;\n",
              "      border: none;\n",
              "      border-radius: 50%;\n",
              "      cursor: pointer;\n",
              "      display: none;\n",
              "      fill: #1967D2;\n",
              "      height: 32px;\n",
              "      padding: 0 0 0 0;\n",
              "      width: 32px;\n",
              "    }\n",
              "\n",
              "    .colab-df-convert:hover {\n",
              "      background-color: #E2EBFA;\n",
              "      box-shadow: 0px 1px 2px rgba(60, 64, 67, 0.3), 0px 1px 3px 1px rgba(60, 64, 67, 0.15);\n",
              "      fill: #174EA6;\n",
              "    }\n",
              "\n",
              "    [theme=dark] .colab-df-convert {\n",
              "      background-color: #3B4455;\n",
              "      fill: #D2E3FC;\n",
              "    }\n",
              "\n",
              "    [theme=dark] .colab-df-convert:hover {\n",
              "      background-color: #434B5C;\n",
              "      box-shadow: 0px 1px 3px 1px rgba(0, 0, 0, 0.15);\n",
              "      filter: drop-shadow(0px 1px 2px rgba(0, 0, 0, 0.3));\n",
              "      fill: #FFFFFF;\n",
              "    }\n",
              "  </style>\n",
              "\n",
              "      <script>\n",
              "        const buttonEl =\n",
              "          document.querySelector('#df-80d8643e-7fd3-466e-8c36-bd1ee4b980ce button.colab-df-convert');\n",
              "        buttonEl.style.display =\n",
              "          google.colab.kernel.accessAllowed ? 'block' : 'none';\n",
              "\n",
              "        async function convertToInteractive(key) {\n",
              "          const element = document.querySelector('#df-80d8643e-7fd3-466e-8c36-bd1ee4b980ce');\n",
              "          const dataTable =\n",
              "            await google.colab.kernel.invokeFunction('convertToInteractive',\n",
              "                                                     [key], {});\n",
              "          if (!dataTable) return;\n",
              "\n",
              "          const docLinkHtml = 'Like what you see? Visit the ' +\n",
              "            '<a target=\"_blank\" href=https://colab.research.google.com/notebooks/data_table.ipynb>data table notebook</a>'\n",
              "            + ' to learn more about interactive tables.';\n",
              "          element.innerHTML = '';\n",
              "          dataTable['output_type'] = 'display_data';\n",
              "          await google.colab.output.renderOutput(dataTable, element);\n",
              "          const docLink = document.createElement('div');\n",
              "          docLink.innerHTML = docLinkHtml;\n",
              "          element.appendChild(docLink);\n",
              "        }\n",
              "      </script>\n",
              "    </div>\n",
              "  </div>\n",
              "  "
            ]
          },
          "metadata": {},
          "execution_count": 236
        }
      ]
    },
    {
      "cell_type": "markdown",
      "source": [
        "Ожидаемая частота = (сумма строк * сумма столбцов) / сумма таблицы\n"
      ],
      "metadata": {
        "id": "FkaOxnpXXv__"
      }
    },
    {
      "cell_type": "markdown",
      "source": [
        "First"
      ],
      "metadata": {
        "id": "VwueWXSgXX2R"
      }
    },
    {
      "cell_type": "code",
      "source": [
        "# Ожидаемая частота купивших control\n",
        "expected_per_control = (contingency_table_2['Total'][0] * contingency_table_2['Control'][4])/contingency_table_2['Total'][4]\n",
        "# Ожидаемая частота купивших variant\n",
        "expected_per_variant = (contingency_table_2['Total'][0] * contingency_table_2['Variant'][4])/contingency_table_2['Total'][4]\n",
        "print(expected_per_control,expected_per_variant)"
      ],
      "metadata": {
        "colab": {
          "base_uri": "https://localhost:8080/"
        },
        "id": "GKIgESyxV23S",
        "outputId": "7dbd1551-2ad4-411f-be2c-1391aa765cb6"
      },
      "execution_count": null,
      "outputs": [
        {
          "output_type": "stream",
          "name": "stdout",
          "text": [
            "20.927152317880793 19.072847682119207\n"
          ]
        }
      ]
    },
    {
      "cell_type": "code",
      "source": [
        "stats.chisquare(f_obs=[contingency_table_2['Control'][0],contingency_table_2['Variant'][0]],\n",
        "    f_exp=[expected_per_control,expected_per_variant])"
      ],
      "metadata": {
        "colab": {
          "base_uri": "https://localhost:8080/"
        },
        "id": "m0Hk-pIFXpei",
        "outputId": "a0abf1d0-2362-47a3-cb54-659c802804f9"
      },
      "execution_count": null,
      "outputs": [
        {
          "output_type": "execute_result",
          "data": {
            "text/plain": [
              "Power_divergenceResult(statistic=0.43059511251758154, pvalue=0.5116970800160716)"
            ]
          },
          "metadata": {},
          "execution_count": 238
        }
      ]
    },
    {
      "cell_type": "markdown",
      "source": [
        "Second"
      ],
      "metadata": {
        "id": "X0rY68z1Xao3"
      }
    },
    {
      "cell_type": "code",
      "source": [
        "# Ожидаемая частота купивших control\n",
        "expected_per_control = (contingency_table_2['Total'][1] * contingency_table_2['Control'][4])/contingency_table_2['Total'][4]\n",
        "# Ожидаемая частота купивших variant\n",
        "expected_per_variant = (contingency_table_2['Total'][1] * contingency_table_2['Variant'][4])/contingency_table_2['Total'][4]\n",
        "print(expected_per_control,expected_per_variant)\n",
        "stats.chisquare(f_obs=[contingency_table_2['Control'][1],contingency_table_2['Variant'][1]],\n",
        "    f_exp=[expected_per_control,expected_per_variant])"
      ],
      "metadata": {
        "colab": {
          "base_uri": "https://localhost:8080/"
        },
        "id": "H0UdJeZnXdWD",
        "outputId": "413c5856-e2c6-4a24-bb43-96b633242d05"
      },
      "execution_count": null,
      "outputs": [
        {
          "output_type": "stream",
          "name": "stdout",
          "text": [
            "18.834437086092716 17.165562913907284\n"
          ]
        },
        {
          "output_type": "execute_result",
          "data": {
            "text/plain": [
              "Power_divergenceResult(statistic=0.8945929051414291, pvalue=0.3442357015842661)"
            ]
          },
          "metadata": {},
          "execution_count": 240
        }
      ]
    },
    {
      "cell_type": "markdown",
      "source": [
        "Third"
      ],
      "metadata": {
        "id": "-aJpSpLYXait"
      }
    },
    {
      "cell_type": "code",
      "source": [
        "# Ожидаемая частота купивших control\n",
        "expected_per_control = (contingency_table_2['Total'][2] * contingency_table_2['Control'][4])/contingency_table_2['Total'][4]\n",
        "# Ожидаемая частота купивших variant\n",
        "expected_per_variant = (contingency_table_2['Total'][2] * contingency_table_2['Variant'][4])/contingency_table_2['Total'][4]\n",
        "print(expected_per_control,expected_per_variant)\n",
        "stats.chisquare(f_obs=[contingency_table_2['Control'][2],contingency_table_2['Variant'][2]],\n",
        "    f_exp=[expected_per_control,expected_per_variant])"
      ],
      "metadata": {
        "colab": {
          "base_uri": "https://localhost:8080/"
        },
        "id": "1wvqZkMtXdum",
        "outputId": "2310ced8-b320-4a03-deb5-1c9e97688fb3"
      },
      "execution_count": null,
      "outputs": [
        {
          "output_type": "stream",
          "name": "stdout",
          "text": [
            "19.880794701986755 18.119205298013245\n"
          ]
        },
        {
          "output_type": "execute_result",
          "data": {
            "text/plain": [
              "Power_divergenceResult(statistic=0.08183895921237691, pvalue=0.7748206071147562)"
            ]
          },
          "metadata": {},
          "execution_count": 241
        }
      ]
    },
    {
      "cell_type": "markdown",
      "source": [
        "Fourth"
      ],
      "metadata": {
        "id": "9Pfc6CjiXack"
      }
    },
    {
      "cell_type": "code",
      "source": [
        "# Ожидаемая частота купивших control\n",
        "expected_per_control = (contingency_table_2['Total'][3] * contingency_table_2['Control'][4])/contingency_table_2['Total'][4]\n",
        "# Ожидаемая частота купивших variant\n",
        "expected_per_variant = (contingency_table_2['Total'][3] * contingency_table_2['Variant'][4])/contingency_table_2['Total'][4]\n",
        "print(expected_per_control,expected_per_variant)\n",
        "stats.chisquare(f_obs=[contingency_table_2['Control'][3],contingency_table_2['Variant'][3]],\n",
        "    f_exp=[expected_per_control,expected_per_variant])"
      ],
      "metadata": {
        "colab": {
          "base_uri": "https://localhost:8080/"
        },
        "id": "V_xLxEawXeIj",
        "outputId": "1c4fb5e8-7372-4fa7-f850-e250f468fa64"
      },
      "execution_count": null,
      "outputs": [
        {
          "output_type": "stream",
          "name": "stdout",
          "text": [
            "19.357615894039736 17.642384105960264\n"
          ]
        },
        {
          "output_type": "execute_result",
          "data": {
            "text/plain": [
              "Power_divergenceResult(statistic=3.109823431025963, pvalue=0.07782139654409342)"
            ]
          },
          "metadata": {},
          "execution_count": 242
        }
      ]
    },
    {
      "cell_type": "markdown",
      "source": [
        "Для степеней свободы 3 значение при p = 0.05 = 7.8\n",
        "\n",
        "Отсюда Вывод: не одно из изменений не является статистически значимым => Эксперимент никак не повлиял на изменения в количестве покупок в разных ценовых категориях"
      ],
      "metadata": {
        "id": "Z1zNtzVaZC7y"
      }
    },
    {
      "cell_type": "markdown",
      "source": [
        "# Результаты"
      ],
      "metadata": {
        "id": "stACCZSJcSum"
      }
    },
    {
      "cell_type": "markdown",
      "source": [
        "Рекомендация для менеджера:\n",
        "\n",
        "Т.к Средний чек уменьшился, конверсия осталась на прежнем уровне, а изменение количества покупок в пределах ценовой категории статистически не значимы то рекомендация может быть одна - признать эксперимент неудачным"
      ],
      "metadata": {
        "id": "jKrNfFKHHm_I"
      }
    }
  ]
}